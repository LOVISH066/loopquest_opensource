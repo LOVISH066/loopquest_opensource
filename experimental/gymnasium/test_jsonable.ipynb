{
 "cells": [
  {
   "cell_type": "code",
   "execution_count": 1,
   "id": "107be1a9-c86d-456a-a67c-49e8f08bb4f3",
   "metadata": {},
   "outputs": [],
   "source": [
    "import gymnasium as gym"
   ]
  },
  {
   "cell_type": "code",
   "execution_count": 50,
   "id": "91fe64a9-9b92-480d-8298-7d99ed07b086",
   "metadata": {},
   "outputs": [],
   "source": [
    "m = 2**256"
   ]
  },
  {
   "cell_type": "code",
   "execution_count": 51,
   "id": "9941377c-5d1e-4dcb-81f6-5b932ee070bf",
   "metadata": {},
   "outputs": [
    {
     "data": {
      "text/plain": [
       "115792089237316195423570985008687907853269984665640564039457584007913129639936"
      ]
     },
     "execution_count": 51,
     "metadata": {},
     "output_type": "execute_result"
    }
   ],
   "source": [
    "m"
   ]
  },
  {
   "cell_type": "code",
   "execution_count": 52,
   "id": "6d08c235-391b-4e82-82a4-add66e4ee463",
   "metadata": {},
   "outputs": [],
   "source": [
    "n = 1e9"
   ]
  },
  {
   "cell_type": "code",
   "execution_count": 53,
   "id": "c534608a-d3d6-4129-8126-0bb5065f451e",
   "metadata": {},
   "outputs": [
    {
     "data": {
      "text/plain": [
       "-4.3180842775472223e-60"
      ]
     },
     "execution_count": 53,
     "metadata": {},
     "output_type": "execute_result"
    }
   ],
   "source": [
    "-n**2 / (2 * m)"
   ]
  },
  {
   "cell_type": "code",
   "execution_count": 44,
   "id": "3ffe4463-98e5-4119-96ad-62c8a7f649e4",
   "metadata": {},
   "outputs": [
    {
     "data": {
      "text/plain": [
       "4.0"
      ]
     },
     "execution_count": 44,
     "metadata": {},
     "output_type": "execute_result"
    }
   ],
   "source": []
  },
  {
   "cell_type": "code",
   "execution_count": 42,
   "id": "e1529ed7-98cf-40aa-8dd2-6e3bc6a17e6b",
   "metadata": {},
   "outputs": [],
   "source": [
    "import math"
   ]
  },
  {
   "cell_type": "code",
   "execution_count": 49,
   "id": "35e9b060-7dfe-4bfa-920b-43fd46a066ca",
   "metadata": {},
   "outputs": [
    {
     "data": {
      "text/plain": [
       "0.02674100890033493"
      ]
     },
     "execution_count": 49,
     "metadata": {},
     "output_type": "execute_result"
    }
   ],
   "source": [
    "1 - math.exp(-n**2 / (2 * m))"
   ]
  },
  {
   "cell_type": "code",
   "execution_count": 36,
   "id": "0e9a2d3e-24ec-4281-8c4c-c01201c1d5a3",
   "metadata": {},
   "outputs": [
    {
     "data": {
      "text/plain": [
       "['root']"
      ]
     },
     "execution_count": 36,
     "metadata": {},
     "output_type": "execute_result"
    }
   ],
   "source": [
    "\"root\".split(\"/\")"
   ]
  },
  {
   "cell_type": "markdown",
   "id": "4f111636-9015-4382-9d69-96059619bd94",
   "metadata": {},
   "source": [
    "# Box Space"
   ]
  },
  {
   "cell_type": "code",
   "execution_count": 54,
   "id": "0353920c-08e9-491a-ab08-c776d384b3a8",
   "metadata": {},
   "outputs": [],
   "source": [
    "env = gym.make('PointMaze_UMazeDense-v3')"
   ]
  },
  {
   "cell_type": "code",
   "execution_count": 58,
   "id": "0e8b37da-28d4-4faf-9617-bc1e645addfc",
   "metadata": {},
   "outputs": [
    {
     "data": {
      "text/plain": [
       "['human', 'rgb_array', 'depth_array']"
      ]
     },
     "execution_count": 58,
     "metadata": {},
     "output_type": "execute_result"
    }
   ],
   "source": [
    "env.metadata['render_modes']"
   ]
  },
  {
   "cell_type": "code",
   "execution_count": 3,
   "id": "947d07be-3d2e-4224-aa8f-51d44bc90905",
   "metadata": {},
   "outputs": [
    {
     "data": {
      "text/plain": [
       "gymnasium.spaces.dict.Dict"
      ]
     },
     "execution_count": 3,
     "metadata": {},
     "output_type": "execute_result"
    }
   ],
   "source": [
    "type(env.observation_space)"
   ]
  },
  {
   "cell_type": "code",
   "execution_count": 23,
   "id": "4db32c7a",
   "metadata": {},
   "outputs": [],
   "source": [
    "foo = gym.spaces.Box(low=-1, high=1, shape=())"
   ]
  },
  {
   "cell_type": "code",
   "execution_count": 24,
   "id": "2379ab1d-6ce0-4a7b-9843-08efc4fc568e",
   "metadata": {},
   "outputs": [],
   "source": [
    "foo_sample = foo.sample()"
   ]
  },
  {
   "cell_type": "code",
   "execution_count": 25,
   "id": "66fb61fd-dd76-4fb0-b118-f6ecd7be6a34",
   "metadata": {},
   "outputs": [
    {
     "data": {
      "text/plain": [
       "1"
      ]
     },
     "execution_count": 25,
     "metadata": {},
     "output_type": "execute_result"
    }
   ],
   "source": [
    "foo_sample.size"
   ]
  },
  {
   "cell_type": "code",
   "execution_count": 26,
   "id": "d7de6d17-4a1e-44b2-9745-530c19460b38",
   "metadata": {},
   "outputs": [
    {
     "data": {
      "text/plain": [
       "()"
      ]
     },
     "execution_count": 26,
     "metadata": {},
     "output_type": "execute_result"
    }
   ],
   "source": [
    "foo_sample.shape"
   ]
  },
  {
   "cell_type": "code",
   "execution_count": 27,
   "id": "015ee0e2-1305-4185-9ca2-343443ca6ff7",
   "metadata": {},
   "outputs": [
    {
     "data": {
      "text/plain": [
       "0"
      ]
     },
     "execution_count": 27,
     "metadata": {},
     "output_type": "execute_result"
    }
   ],
   "source": [
    "sum(foo_sample.shape)"
   ]
  },
  {
   "cell_type": "code",
   "execution_count": 28,
   "id": "694bb9ff",
   "metadata": {},
   "outputs": [
    {
     "data": {
      "text/plain": [
       "'Box(-1.0, 1.0, (), float32)'"
      ]
     },
     "execution_count": 28,
     "metadata": {},
     "output_type": "execute_result"
    }
   ],
   "source": [
    "repr(foo)"
   ]
  },
  {
   "cell_type": "code",
   "execution_count": 13,
   "id": "c9c6f02e",
   "metadata": {},
   "outputs": [],
   "source": [
    "bar = gym.spaces.Text(max_length=10)"
   ]
  },
  {
   "cell_type": "code",
   "execution_count": 19,
   "id": "537b03f0",
   "metadata": {},
   "outputs": [
    {
     "data": {
      "text/plain": [
       "'HtZZ'"
      ]
     },
     "execution_count": 19,
     "metadata": {},
     "output_type": "execute_result"
    }
   ],
   "source": [
    "bar.sample()"
   ]
  },
  {
   "cell_type": "code",
   "execution_count": 20,
   "id": "8224698b",
   "metadata": {},
   "outputs": [],
   "source": [
    "bar.shape"
   ]
  },
  {
   "cell_type": "code",
   "execution_count": 22,
   "id": "c66bc897",
   "metadata": {},
   "outputs": [],
   "source": [
    "baz = gym.spaces.MultiDiscrete([2, 3, 4])"
   ]
  },
  {
   "cell_type": "code",
   "execution_count": 24,
   "id": "07a0a9fb",
   "metadata": {},
   "outputs": [],
   "source": [
    "baw = gym.spaces.MultiBinary(10)"
   ]
  },
  {
   "cell_type": "code",
   "execution_count": 25,
   "id": "4da2d61f",
   "metadata": {},
   "outputs": [
    {
     "data": {
      "text/plain": [
       "(10,)"
      ]
     },
     "execution_count": 25,
     "metadata": {},
     "output_type": "execute_result"
    }
   ],
   "source": [
    "baw.shape"
   ]
  },
  {
   "cell_type": "code",
   "execution_count": 4,
   "id": "c7f5a181",
   "metadata": {},
   "outputs": [],
   "source": [
    "discrete = gym.spaces.Discrete(5)"
   ]
  },
  {
   "cell_type": "code",
   "execution_count": 5,
   "id": "98334b3a",
   "metadata": {},
   "outputs": [
    {
     "data": {
      "text/plain": [
       "()"
      ]
     },
     "execution_count": 5,
     "metadata": {},
     "output_type": "execute_result"
    }
   ],
   "source": [
    "discrete.shape"
   ]
  },
  {
   "cell_type": "code",
   "execution_count": 6,
   "id": "2bb4ef3a-6384-4fd5-9a30-e3f5f72c7897",
   "metadata": {},
   "outputs": [
    {
     "data": {
      "text/plain": [
       "0"
      ]
     },
     "execution_count": 6,
     "metadata": {},
     "output_type": "execute_result"
    }
   ],
   "source": [
    "sum(discrete.shape)"
   ]
  },
  {
   "cell_type": "code",
   "execution_count": 48,
   "id": "ced453d8-78a5-4d48-95d5-60ff744b7b68",
   "metadata": {},
   "outputs": [
    {
     "data": {
      "text/plain": [
       "numpy.int64"
      ]
     },
     "execution_count": 48,
     "metadata": {},
     "output_type": "execute_result"
    }
   ],
   "source": [
    "type(discrete.sample())"
   ]
  },
  {
   "cell_type": "code",
   "execution_count": 53,
   "id": "5dac63b2-a84e-4f8a-ae3f-cf705319cf32",
   "metadata": {},
   "outputs": [],
   "source": [
    "env = gym.make('LunarLander-v2')"
   ]
  },
  {
   "cell_type": "code",
   "execution_count": 55,
   "id": "389e6ce0-852f-4157-bfba-b064abd4a260",
   "metadata": {},
   "outputs": [
    {
     "data": {
      "text/plain": [
       "array([-0.92412674, -0.1333271 , -1.963013  , -2.8194652 , -3.0863338 ,\n",
       "       -3.8225172 ,  0.00653581,  0.11339503], dtype=float32)"
      ]
     },
     "execution_count": 55,
     "metadata": {},
     "output_type": "execute_result"
    }
   ],
   "source": [
    "env.observation_space.sample()"
   ]
  },
  {
   "cell_type": "code",
   "execution_count": 58,
   "id": "873d8408-3854-43f7-918e-a377f09942c0",
   "metadata": {},
   "outputs": [
    {
     "data": {
      "text/plain": [
       "Discrete(4)"
      ]
     },
     "execution_count": 58,
     "metadata": {},
     "output_type": "execute_result"
    }
   ],
   "source": [
    "env.action_space"
   ]
  },
  {
   "cell_type": "code",
   "execution_count": 57,
   "id": "5c521f9e-b583-4869-b2f4-d2bd4250f4bd",
   "metadata": {},
   "outputs": [
    {
     "data": {
      "text/plain": [
       "numpy.int64"
      ]
     },
     "execution_count": 57,
     "metadata": {},
     "output_type": "execute_result"
    }
   ],
   "source": [
    "type(env.action_space.sample())"
   ]
  },
  {
   "cell_type": "code",
   "execution_count": 34,
   "id": "75ab103b",
   "metadata": {},
   "outputs": [],
   "source": [
    "tuple_space = gym.spaces.Tuple([foo, bar])"
   ]
  },
  {
   "cell_type": "code",
   "execution_count": 35,
   "id": "4299ca6d",
   "metadata": {},
   "outputs": [
    {
     "data": {
      "text/plain": [
       "(Box(-1.0, 1.0, (), float32),\n",
       " Text(1, 10, charset=0123456789ABCDEFGHIJKLMNOPQRSTUVWXYZabcdefghijklmnopqrstuvwxyz))"
      ]
     },
     "execution_count": 35,
     "metadata": {},
     "output_type": "execute_result"
    }
   ],
   "source": [
    "tuple_space.spaces"
   ]
  },
  {
   "cell_type": "code",
   "execution_count": 36,
   "id": "4aa0a511",
   "metadata": {},
   "outputs": [],
   "source": [
    "seq_space = gym.spaces.Sequence(foo)"
   ]
  },
  {
   "cell_type": "code",
   "execution_count": 39,
   "id": "16aec891",
   "metadata": {},
   "outputs": [
    {
     "data": {
      "text/plain": [
       "Box(-1.0, 1.0, (), float32)"
      ]
     },
     "execution_count": 39,
     "metadata": {},
     "output_type": "execute_result"
    }
   ],
   "source": [
    "seq_space.feature_space"
   ]
  },
  {
   "cell_type": "code",
   "execution_count": 7,
   "id": "656b34bb-2b2d-4339-a23e-bb58e0f6d768",
   "metadata": {},
   "outputs": [
    {
     "data": {
      "text/plain": [
       "(2,)"
      ]
     },
     "execution_count": 7,
     "metadata": {},
     "output_type": "execute_result"
    }
   ],
   "source": [
    "env.observation_space['achieved_goal'].shape"
   ]
  },
  {
   "cell_type": "code",
   "execution_count": null,
   "id": "b71ab169-e12c-4c96-8b8a-5b1d906d6262",
   "metadata": {},
   "outputs": [],
   "source": [
    "for k, v in env.observation_space.items():\n",
    "    print(k)"
   ]
  },
  {
   "cell_type": "code",
   "execution_count": 32,
   "id": "f9f4aa76",
   "metadata": {},
   "outputs": [
    {
     "data": {
      "text/plain": [
       "Dict('achieved_goal': Box(-inf, inf, (2,), float64), 'desired_goal': Box(-inf, inf, (2,), float64), 'observation': Box(-inf, inf, (4,), float64))"
      ]
     },
     "execution_count": 32,
     "metadata": {},
     "output_type": "execute_result"
    }
   ],
   "source": [
    "env.observation_space"
   ]
  },
  {
   "cell_type": "code",
   "execution_count": 12,
   "id": "06af8758",
   "metadata": {},
   "outputs": [
    {
     "data": {
      "text/plain": [
       "gymnasium.spaces.dict.Dict"
      ]
     },
     "execution_count": 12,
     "metadata": {},
     "output_type": "execute_result"
    }
   ],
   "source": [
    "type(env.observation_space)"
   ]
  },
  {
   "cell_type": "code",
   "execution_count": 47,
   "id": "786733b3-910f-46bc-95ad-eace62b3faac",
   "metadata": {},
   "outputs": [
    {
     "data": {
      "text/plain": [
       "(2,)"
      ]
     },
     "execution_count": 47,
     "metadata": {},
     "output_type": "execute_result"
    }
   ],
   "source": [
    "env.observation_space['achieved_goal'].shape"
   ]
  },
  {
   "cell_type": "code",
   "execution_count": 40,
   "id": "df36b8e3-eba4-433c-81cd-422b48016b3f",
   "metadata": {},
   "outputs": [],
   "source": [
    "obs_space = env.observation_space"
   ]
  },
  {
   "cell_type": "code",
   "execution_count": 42,
   "id": "7092f8de-292b-4157-a1ea-f16177550a9c",
   "metadata": {},
   "outputs": [
    {
     "name": "stdout",
     "output_type": "stream",
     "text": [
      "achieved_goal\n",
      "desired_goal\n",
      "observation\n"
     ]
    }
   ],
   "source": [
    "for key in obs_space.keys():\n",
    "    print(key)"
   ]
  },
  {
   "cell_type": "code",
   "execution_count": 43,
   "id": "e3af37fd-43ec-42a8-990b-dce8889d1946",
   "metadata": {},
   "outputs": [
    {
     "data": {
      "text/plain": [
       "EnvSpec(id='PointMaze_UMazeDense-v3', entry_point='gymnasium_robotics.envs.maze.point_maze:PointMazeEnv', reward_threshold=None, nondeterministic=False, max_episode_steps=300, order_enforce=True, autoreset=False, disable_env_checker=False, apply_api_compatibility=False, kwargs={'maze_map': [[1, 1, 1, 1, 1], [1, 0, 0, 0, 1], [1, 1, 1, 0, 1], [1, 0, 0, 0, 1], [1, 1, 1, 1, 1]], 'reward_type': 'dense'}, namespace=None, name='PointMaze_UMazeDense', version=3, additional_wrappers=(), vector_entry_point=None)"
      ]
     },
     "execution_count": 43,
     "metadata": {},
     "output_type": "execute_result"
    }
   ],
   "source": [
    "env.spec"
   ]
  },
  {
   "cell_type": "code",
   "execution_count": 3,
   "id": "514687d6-9cb6-41f2-a9f2-33530d335992",
   "metadata": {},
   "outputs": [],
   "source": [
    "obs = env.observation_space.sample()"
   ]
  },
  {
   "cell_type": "code",
   "execution_count": 4,
   "id": "59405095-45da-455f-b253-4ce926300964",
   "metadata": {},
   "outputs": [
    {
     "data": {
      "text/plain": [
       "OrderedDict([('achieved_goal', array([ 1.72302223, -1.05896134])),\n",
       "             ('desired_goal', array([0.8429858 , 1.31911617])),\n",
       "             ('observation',\n",
       "              array([ 0.65584758, -0.92570483, -0.33714198, -1.34361531]))])"
      ]
     },
     "execution_count": 4,
     "metadata": {},
     "output_type": "execute_result"
    }
   ],
   "source": [
    "obs"
   ]
  },
  {
   "cell_type": "code",
   "execution_count": 7,
   "id": "de0e6131-c24a-48f0-ad23-056ef40b34fb",
   "metadata": {},
   "outputs": [
    {
     "data": {
      "text/plain": [
       "{'achieved_goal': [[1.7230222286828372, -1.0589613429722422]],\n",
       " 'desired_goal': [[0.8429858009090716, 1.31911617339504]],\n",
       " 'observation': [[0.6558475752925086,\n",
       "   -0.9257048326942372,\n",
       "   -0.3371419848268517,\n",
       "   -1.3436153075654953]]}"
      ]
     },
     "execution_count": 7,
     "metadata": {},
     "output_type": "execute_result"
    }
   ],
   "source": [
    "env.observation_space.to_jsonable([obs])"
   ]
  },
  {
   "cell_type": "code",
   "execution_count": 9,
   "id": "5f712f13-f5d0-41c1-a9e9-4b5fa6cd5605",
   "metadata": {},
   "outputs": [],
   "source": [
    "import json"
   ]
  },
  {
   "cell_type": "code",
   "execution_count": 16,
   "id": "c17f1bdc-947e-44ef-9068-88a4bc27f75a",
   "metadata": {},
   "outputs": [],
   "source": [
    "obs_str = json.dumps(env.observation_space.to_jsonable([obs]))"
   ]
  },
  {
   "cell_type": "code",
   "execution_count": 17,
   "id": "cfb01ae5-a190-4c29-9d24-fd4308571258",
   "metadata": {},
   "outputs": [
    {
     "data": {
      "text/plain": [
       "'{\"achieved_goal\": [[1.7230222286828372, -1.0589613429722422]], \"desired_goal\": [[0.8429858009090716, 1.31911617339504]], \"observation\": [[0.6558475752925086, -0.9257048326942372, -0.3371419848268517, -1.3436153075654953]]}'"
      ]
     },
     "execution_count": 17,
     "metadata": {},
     "output_type": "execute_result"
    }
   ],
   "source": [
    "obs_str"
   ]
  },
  {
   "cell_type": "code",
   "execution_count": 27,
   "id": "55fb4864-b9dd-4f43-9915-42b70652cccc",
   "metadata": {},
   "outputs": [],
   "source": [
    "from pydantic import BaseModel, Json\n",
    "from typing import Optional, Any, List"
   ]
  },
  {
   "cell_type": "code",
   "execution_count": 15,
   "id": "b15566d4-4b74-4ee2-a871-ca2432e50d61",
   "metadata": {},
   "outputs": [],
   "source": [
    "class Foo(BaseModel):\n",
    "    obs: Optional[Json[Any]]"
   ]
  },
  {
   "cell_type": "code",
   "execution_count": 18,
   "id": "164f3609-9816-445d-83fa-cb1ec20c09da",
   "metadata": {},
   "outputs": [],
   "source": [
    "foo = Foo(obs=obs_str)"
   ]
  },
  {
   "cell_type": "code",
   "execution_count": 22,
   "id": "5f1615ec-ca89-4bea-af42-85759f7358f0",
   "metadata": {},
   "outputs": [
    {
     "data": {
      "text/plain": [
       "'{\"obs\":{\"achieved_goal\":[[1.7230222286828372,-1.0589613429722422]],\"desired_goal\":[[0.8429858009090716,1.31911617339504]],\"observation\":[[0.6558475752925086,-0.9257048326942372,-0.3371419848268517,-1.3436153075654953]]}}'"
      ]
     },
     "execution_count": 22,
     "metadata": {},
     "output_type": "execute_result"
    }
   ],
   "source": [
    "foo.model_dump_json()"
   ]
  },
  {
   "cell_type": "code",
   "execution_count": 15,
   "id": "0348ca9c-9261-4e20-b9ce-1fe3074af79b",
   "metadata": {},
   "outputs": [
    {
     "data": {
      "text/plain": [
       "str"
      ]
     },
     "execution_count": 15,
     "metadata": {},
     "output_type": "execute_result"
    }
   ],
   "source": [
    "type(foo)"
   ]
  },
  {
   "cell_type": "code",
   "execution_count": 42,
   "id": "f8f1f6fa-4a30-44f4-a04f-9fce2e855e53",
   "metadata": {},
   "outputs": [
    {
     "name": "stdout",
     "output_type": "stream",
     "text": [
      "{\"detail\":[{\"type\":\"json_type\",\"loc\":[\"body\",\"observation\"],\"msg\":\"JSON input should be string, bytes or bytearray\",\"input\":[[-0.9637165665626526,-0.02285194583237171,-0.8739522695541382,-0.12580598890781403,1.4199990034103394,6.530352592468262,0.0,1.0]],\"url\":\"https://errors.pydantic.dev/2.6/v/json_type\"},{\"type\":\"json_type\",\"loc\":[\"body\",\"action\"],\"msg\":\"JSON input should be string, bytes or bytearray\",\"input\":0,\"url\":\"https://errors.pydantic.dev/2.6/v/json_type\"}]}\n"
     ]
    }
   ],
   "source": [
    "import requests\n",
    "import json\n",
    "\n",
    "# Your endpoint URL\n",
    "url = \"http://localhost:8000/step\"\n",
    "\n",
    "\n",
    "class StepCreate(BaseModel):\n",
    "    experiment_id: str\n",
    "    environment_id: str\n",
    "    episode: int\n",
    "    # In simulation, all the observations and actions are aligned in time.\n",
    "    step: int\n",
    "    # NOTE: observation and action are flattened into 1D arrays.\n",
    "    observation: Optional[Json[Any]] = None\n",
    "    action: Optional[Json[Any]] = None\n",
    "    reward: Optional[float] = 0.0\n",
    "    # This is potentially useful to train a policy conditioned on sub goals.\n",
    "    # sub_goal: Optional[Goal] = None\n",
    "    image_urls: Optional[List[str]] = []\n",
    "    termnated: Optional[bool] = False\n",
    "    truncated: Optional[bool] = False\n",
    "    # This is deprecated by Gymnasium, but we still keep it for backward\n",
    "    # compatibility.\n",
    "    done: Optional[bool] = False\n",
    "    info: Optional[Json[Any]] = None  # JSON string of step info\n",
    "\n",
    "\n",
    "# The data you want to send, structured as a list of lists or any other structure\n",
    "# data = StepCreate.model_validate_json('{\"experiment_id\":\"eazk1rva\",\"environment_id\":\"LunarLander-v2\",\"episode\":9,\"step\":112,\"observation\":[[-0.9637165665626526,-0.02285194583237171,-0.8739522695541382,-0.12580598890781403,1.4199990034103394,6.530352592468262,0.0,1.0]],\"action\":[0],\"reward\":-100.0,\"image_urls\":[],\"termnated\":true,\"truncated\":false,\"done\":false,\"info\":{}}')\n",
    "data = StepCreate(experiment_id=\"eazk1rva\", \n",
    "                  environment_id=\"LunarLander-v2\",\n",
    "                  episode=9,\n",
    "                  step=112,\n",
    "                  action=json.dumps(0),\n",
    "                  observation=json.dumps([[-0.9637165665626526,-0.02285194583237171,-0.8739522695541382,-0.12580598890781403,1.4199990034103394,6.530352592468262,0.0,1.0]]))\n",
    "                  \n",
    "                  \n",
    "# Ensure the data is properly JSON-encoded. The `json` parameter in the `requests.post` method does this automatically.\n",
    "response = requests.post(url, json=data.model_dump())\n",
    "\n",
    "# If you need to manually encode the data and send it as a string (less common), you would do something like this:\n",
    "# headers = {'Content-Type': 'application/json'}\n",
    "# response = requests.post(url, data=json.dumps(data), headers=headers)\n",
    "\n",
    "print(response.text)\n"
   ]
  },
  {
   "cell_type": "code",
   "execution_count": 44,
   "id": "3c5caf7d-e8f2-409c-857d-48217626a708",
   "metadata": {},
   "outputs": [
    {
     "name": "stderr",
     "output_type": "stream",
     "text": [
      "/tmp/ipykernel_1184371/354839536.py:1: PydanticDeprecatedSince20: The `json` method is deprecated; use `model_dump_json` instead. Deprecated in Pydantic V2.0 to be removed in V3.0. See Pydantic V2 Migration Guide at https://errors.pydantic.dev/2.5/migration/\n",
      "  data.json()\n"
     ]
    },
    {
     "data": {
      "text/plain": [
       "'{\"experiment_id\":\"eazk1rva\",\"environment_id\":\"LunarLander-v2\",\"episode\":9,\"step\":112,\"observation\":[[-0.9637165665626526,-0.02285194583237171,-0.8739522695541382,-0.12580598890781403,1.4199990034103394,6.530352592468262,0.0,1.0]],\"action\":0,\"reward\":0.0,\"image_urls\":[],\"termnated\":false,\"truncated\":false,\"done\":false,\"info\":null}'"
      ]
     },
     "execution_count": 44,
     "metadata": {},
     "output_type": "execute_result"
    }
   ],
   "source": [
    "data.json()"
   ]
  },
  {
   "cell_type": "code",
   "execution_count": 43,
   "id": "a9716e73-709b-4b9b-90e5-3a9d4104bbe7",
   "metadata": {},
   "outputs": [
    {
     "data": {
      "text/plain": [
       "StepCreate(experiment_id='eazk1rva', environment_id='LunarLander-v2', episode=9, step=112, observation=[[-0.9637165665626526, -0.02285194583237171, -0.8739522695541382, -0.12580598890781403, 1.4199990034103394, 6.530352592468262, 0.0, 1.0]], action=0, reward=0.0, image_urls=[], termnated=False, truncated=False, done=False, info=None)"
      ]
     },
     "execution_count": 43,
     "metadata": {},
     "output_type": "execute_result"
    }
   ],
   "source": [
    "data"
   ]
  },
  {
   "cell_type": "code",
   "execution_count": 26,
   "id": "1337b7ac-492b-441f-b9b6-2a843ef183ac",
   "metadata": {},
   "outputs": [],
   "source": [
    "import gymnasium as gym\n",
    "\n",
    "from huggingface_sb3 import load_from_hub\n",
    "from stable_baselines3 import PPO\n",
    "from stable_baselines3.common.evaluation import evaluate_policy\n",
    "\n",
    "# Retrieve the model from the hub\n",
    "## repo_id = id of the model repository from the Hugging Face Hub (repo_id = {organization}/{repo_name})\n",
    "## filename = name of the model zip file from the repository\n",
    "checkpoint = load_from_hub(\n",
    "    repo_id=\"jxx123/ppo-LunarLander-v2\",\n",
    "    filename=\"ppo-LunarLander-v2.zip\",\n",
    ")"
   ]
  },
  {
   "cell_type": "code",
   "execution_count": 17,
   "id": "a8b9924f-eaaf-41c5-ae1a-8027122e1947",
   "metadata": {},
   "outputs": [
    {
     "data": {
      "text/plain": [
       "'/home/jinyu/.cache/huggingface/hub/models--jxx123--ppo-LunarLander-v2/snapshots/c3ac2142e9a5555104d8f9f1afccd6ab701566a7/ppo-LunarLander-v2.zip'"
      ]
     },
     "execution_count": 17,
     "metadata": {},
     "output_type": "execute_result"
    }
   ],
   "source": [
    "checkpoint"
   ]
  },
  {
   "cell_type": "code",
   "execution_count": 18,
   "id": "83623812-fc32-4199-a2db-2321f98c5221",
   "metadata": {},
   "outputs": [],
   "source": [
    "import base64\n",
    "import cloudpickle\n",
    "\n",
    "# The provided base64 string\n",
    "base64_str = \"gAWVOwAAAAAAAACMIXN0YWJsZV9iYXNlbGluZXMzLmNvbW1vbi5wb2xpY2llc5SMEUFjdG9yQ3JpdGljUG9saWN5lJOULg==\"\n",
    "\n",
    "# Decode the base64 string to bytes\n",
    "decoded_bytes = base64.b64decode(base64_str)\n",
    "\n",
    "# Deserialize the bytes using cloudpickle\n",
    "deserialized_object = cloudpickle.loads(decoded_bytes)"
   ]
  },
  {
   "cell_type": "code",
   "execution_count": 22,
   "id": "34b3593a-a441-476f-88ba-fcb4b0e79c1a",
   "metadata": {},
   "outputs": [
    {
     "ename": "RuntimeError",
     "evalue": "[enforce fail at inline_container.cc:135] . file in archive is not in a subdirectory: data",
     "output_type": "error",
     "traceback": [
      "\u001b[0;31m---------------------------------------------------------------------------\u001b[0m",
      "\u001b[0;31mRuntimeError\u001b[0m                              Traceback (most recent call last)",
      "Cell \u001b[0;32mIn[22], line 1\u001b[0m\n\u001b[0;32m----> 1\u001b[0m \u001b[43mdeserialized_object\u001b[49m\u001b[38;5;241;43m.\u001b[39;49m\u001b[43mload\u001b[49m\u001b[43m(\u001b[49m\u001b[43mcheckpoint\u001b[49m\u001b[43m)\u001b[49m\n",
      "File \u001b[0;32m~/miniconda3/envs/loopquest-dev/lib/python3.11/site-packages/stable_baselines3/common/policies.py:176\u001b[0m, in \u001b[0;36mBaseModel.load\u001b[0;34m(cls, path, device)\u001b[0m\n\u001b[1;32m    168\u001b[0m \u001b[38;5;250m\u001b[39m\u001b[38;5;124;03m\"\"\"\u001b[39;00m\n\u001b[1;32m    169\u001b[0m \u001b[38;5;124;03mLoad model from path.\u001b[39;00m\n\u001b[1;32m    170\u001b[0m \n\u001b[0;32m   (...)\u001b[0m\n\u001b[1;32m    173\u001b[0m \u001b[38;5;124;03m:return:\u001b[39;00m\n\u001b[1;32m    174\u001b[0m \u001b[38;5;124;03m\"\"\"\u001b[39;00m\n\u001b[1;32m    175\u001b[0m device \u001b[38;5;241m=\u001b[39m get_device(device)\n\u001b[0;32m--> 176\u001b[0m saved_variables \u001b[38;5;241m=\u001b[39m \u001b[43mth\u001b[49m\u001b[38;5;241;43m.\u001b[39;49m\u001b[43mload\u001b[49m\u001b[43m(\u001b[49m\u001b[43mpath\u001b[49m\u001b[43m,\u001b[49m\u001b[43m \u001b[49m\u001b[43mmap_location\u001b[49m\u001b[38;5;241;43m=\u001b[39;49m\u001b[43mdevice\u001b[49m\u001b[43m)\u001b[49m\n\u001b[1;32m    178\u001b[0m \u001b[38;5;66;03m# Create policy object\u001b[39;00m\n\u001b[1;32m    179\u001b[0m model \u001b[38;5;241m=\u001b[39m \u001b[38;5;28mcls\u001b[39m(\u001b[38;5;241m*\u001b[39m\u001b[38;5;241m*\u001b[39msaved_variables[\u001b[38;5;124m\"\u001b[39m\u001b[38;5;124mdata\u001b[39m\u001b[38;5;124m\"\u001b[39m])\n",
      "File \u001b[0;32m~/miniconda3/envs/loopquest-dev/lib/python3.11/site-packages/torch/serialization.py:993\u001b[0m, in \u001b[0;36mload\u001b[0;34m(f, map_location, pickle_module, weights_only, mmap, **pickle_load_args)\u001b[0m\n\u001b[1;32m    991\u001b[0m orig_position \u001b[38;5;241m=\u001b[39m opened_file\u001b[38;5;241m.\u001b[39mtell()\n\u001b[1;32m    992\u001b[0m overall_storage \u001b[38;5;241m=\u001b[39m \u001b[38;5;28;01mNone\u001b[39;00m\n\u001b[0;32m--> 993\u001b[0m \u001b[38;5;28;01mwith\u001b[39;00m \u001b[43m_open_zipfile_reader\u001b[49m\u001b[43m(\u001b[49m\u001b[43mopened_file\u001b[49m\u001b[43m)\u001b[49m \u001b[38;5;28;01mas\u001b[39;00m opened_zipfile:\n\u001b[1;32m    994\u001b[0m     \u001b[38;5;28;01mif\u001b[39;00m _is_torchscript_zip(opened_zipfile):\n\u001b[1;32m    995\u001b[0m         warnings\u001b[38;5;241m.\u001b[39mwarn(\u001b[38;5;124m\"\u001b[39m\u001b[38;5;124m'\u001b[39m\u001b[38;5;124mtorch.load\u001b[39m\u001b[38;5;124m'\u001b[39m\u001b[38;5;124m received a zip file that looks like a TorchScript archive\u001b[39m\u001b[38;5;124m\"\u001b[39m\n\u001b[1;32m    996\u001b[0m                       \u001b[38;5;124m\"\u001b[39m\u001b[38;5;124m dispatching to \u001b[39m\u001b[38;5;124m'\u001b[39m\u001b[38;5;124mtorch.jit.load\u001b[39m\u001b[38;5;124m'\u001b[39m\u001b[38;5;124m (call \u001b[39m\u001b[38;5;124m'\u001b[39m\u001b[38;5;124mtorch.jit.load\u001b[39m\u001b[38;5;124m'\u001b[39m\u001b[38;5;124m directly to\u001b[39m\u001b[38;5;124m\"\u001b[39m\n\u001b[1;32m    997\u001b[0m                       \u001b[38;5;124m\"\u001b[39m\u001b[38;5;124m silence this warning)\u001b[39m\u001b[38;5;124m\"\u001b[39m, \u001b[38;5;167;01mUserWarning\u001b[39;00m)\n",
      "File \u001b[0;32m~/miniconda3/envs/loopquest-dev/lib/python3.11/site-packages/torch/serialization.py:447\u001b[0m, in \u001b[0;36m_open_zipfile_reader.__init__\u001b[0;34m(self, name_or_buffer)\u001b[0m\n\u001b[1;32m    446\u001b[0m \u001b[38;5;28;01mdef\u001b[39;00m \u001b[38;5;21m__init__\u001b[39m(\u001b[38;5;28mself\u001b[39m, name_or_buffer) \u001b[38;5;241m-\u001b[39m\u001b[38;5;241m>\u001b[39m \u001b[38;5;28;01mNone\u001b[39;00m:\n\u001b[0;32m--> 447\u001b[0m     \u001b[38;5;28msuper\u001b[39m()\u001b[38;5;241m.\u001b[39m\u001b[38;5;21m__init__\u001b[39m(\u001b[43mtorch\u001b[49m\u001b[38;5;241;43m.\u001b[39;49m\u001b[43m_C\u001b[49m\u001b[38;5;241;43m.\u001b[39;49m\u001b[43mPyTorchFileReader\u001b[49m\u001b[43m(\u001b[49m\u001b[43mname_or_buffer\u001b[49m\u001b[43m)\u001b[49m)\n",
      "\u001b[0;31mRuntimeError\u001b[0m: [enforce fail at inline_container.cc:135] . file in archive is not in a subdirectory: data"
     ]
    }
   ],
   "source": [
    "deserialized_object.load(checkpoint)"
   ]
  },
  {
   "cell_type": "code",
   "execution_count": 23,
   "id": "c8aa88bf-394e-4b16-acca-8aff835c4655",
   "metadata": {},
   "outputs": [
    {
     "ename": "RuntimeError",
     "evalue": "[enforce fail at inline_container.cc:135] . file in archive is not in a subdirectory: data",
     "output_type": "error",
     "traceback": [
      "\u001b[0;31m---------------------------------------------------------------------------\u001b[0m",
      "\u001b[0;31mRuntimeError\u001b[0m                              Traceback (most recent call last)",
      "Cell \u001b[0;32mIn[23], line 1\u001b[0m\n\u001b[0;32m----> 1\u001b[0m model \u001b[38;5;241m=\u001b[39m \u001b[43mdeserialized_object\u001b[49m\u001b[38;5;241;43m.\u001b[39;49m\u001b[43mload\u001b[49m\u001b[43m(\u001b[49m\u001b[43mcheckpoint\u001b[49m\u001b[43m)\u001b[49m\n",
      "File \u001b[0;32m~/miniconda3/envs/loopquest-dev/lib/python3.11/site-packages/stable_baselines3/common/policies.py:176\u001b[0m, in \u001b[0;36mBaseModel.load\u001b[0;34m(cls, path, device)\u001b[0m\n\u001b[1;32m    168\u001b[0m \u001b[38;5;250m\u001b[39m\u001b[38;5;124;03m\"\"\"\u001b[39;00m\n\u001b[1;32m    169\u001b[0m \u001b[38;5;124;03mLoad model from path.\u001b[39;00m\n\u001b[1;32m    170\u001b[0m \n\u001b[0;32m   (...)\u001b[0m\n\u001b[1;32m    173\u001b[0m \u001b[38;5;124;03m:return:\u001b[39;00m\n\u001b[1;32m    174\u001b[0m \u001b[38;5;124;03m\"\"\"\u001b[39;00m\n\u001b[1;32m    175\u001b[0m device \u001b[38;5;241m=\u001b[39m get_device(device)\n\u001b[0;32m--> 176\u001b[0m saved_variables \u001b[38;5;241m=\u001b[39m \u001b[43mth\u001b[49m\u001b[38;5;241;43m.\u001b[39;49m\u001b[43mload\u001b[49m\u001b[43m(\u001b[49m\u001b[43mpath\u001b[49m\u001b[43m,\u001b[49m\u001b[43m \u001b[49m\u001b[43mmap_location\u001b[49m\u001b[38;5;241;43m=\u001b[39;49m\u001b[43mdevice\u001b[49m\u001b[43m)\u001b[49m\n\u001b[1;32m    178\u001b[0m \u001b[38;5;66;03m# Create policy object\u001b[39;00m\n\u001b[1;32m    179\u001b[0m model \u001b[38;5;241m=\u001b[39m \u001b[38;5;28mcls\u001b[39m(\u001b[38;5;241m*\u001b[39m\u001b[38;5;241m*\u001b[39msaved_variables[\u001b[38;5;124m\"\u001b[39m\u001b[38;5;124mdata\u001b[39m\u001b[38;5;124m\"\u001b[39m])\n",
      "File \u001b[0;32m~/miniconda3/envs/loopquest-dev/lib/python3.11/site-packages/torch/serialization.py:993\u001b[0m, in \u001b[0;36mload\u001b[0;34m(f, map_location, pickle_module, weights_only, mmap, **pickle_load_args)\u001b[0m\n\u001b[1;32m    991\u001b[0m orig_position \u001b[38;5;241m=\u001b[39m opened_file\u001b[38;5;241m.\u001b[39mtell()\n\u001b[1;32m    992\u001b[0m overall_storage \u001b[38;5;241m=\u001b[39m \u001b[38;5;28;01mNone\u001b[39;00m\n\u001b[0;32m--> 993\u001b[0m \u001b[38;5;28;01mwith\u001b[39;00m \u001b[43m_open_zipfile_reader\u001b[49m\u001b[43m(\u001b[49m\u001b[43mopened_file\u001b[49m\u001b[43m)\u001b[49m \u001b[38;5;28;01mas\u001b[39;00m opened_zipfile:\n\u001b[1;32m    994\u001b[0m     \u001b[38;5;28;01mif\u001b[39;00m _is_torchscript_zip(opened_zipfile):\n\u001b[1;32m    995\u001b[0m         warnings\u001b[38;5;241m.\u001b[39mwarn(\u001b[38;5;124m\"\u001b[39m\u001b[38;5;124m'\u001b[39m\u001b[38;5;124mtorch.load\u001b[39m\u001b[38;5;124m'\u001b[39m\u001b[38;5;124m received a zip file that looks like a TorchScript archive\u001b[39m\u001b[38;5;124m\"\u001b[39m\n\u001b[1;32m    996\u001b[0m                       \u001b[38;5;124m\"\u001b[39m\u001b[38;5;124m dispatching to \u001b[39m\u001b[38;5;124m'\u001b[39m\u001b[38;5;124mtorch.jit.load\u001b[39m\u001b[38;5;124m'\u001b[39m\u001b[38;5;124m (call \u001b[39m\u001b[38;5;124m'\u001b[39m\u001b[38;5;124mtorch.jit.load\u001b[39m\u001b[38;5;124m'\u001b[39m\u001b[38;5;124m directly to\u001b[39m\u001b[38;5;124m\"\u001b[39m\n\u001b[1;32m    997\u001b[0m                       \u001b[38;5;124m\"\u001b[39m\u001b[38;5;124m silence this warning)\u001b[39m\u001b[38;5;124m\"\u001b[39m, \u001b[38;5;167;01mUserWarning\u001b[39;00m)\n",
      "File \u001b[0;32m~/miniconda3/envs/loopquest-dev/lib/python3.11/site-packages/torch/serialization.py:447\u001b[0m, in \u001b[0;36m_open_zipfile_reader.__init__\u001b[0;34m(self, name_or_buffer)\u001b[0m\n\u001b[1;32m    446\u001b[0m \u001b[38;5;28;01mdef\u001b[39;00m \u001b[38;5;21m__init__\u001b[39m(\u001b[38;5;28mself\u001b[39m, name_or_buffer) \u001b[38;5;241m-\u001b[39m\u001b[38;5;241m>\u001b[39m \u001b[38;5;28;01mNone\u001b[39;00m:\n\u001b[0;32m--> 447\u001b[0m     \u001b[38;5;28msuper\u001b[39m()\u001b[38;5;241m.\u001b[39m\u001b[38;5;21m__init__\u001b[39m(\u001b[43mtorch\u001b[49m\u001b[38;5;241;43m.\u001b[39;49m\u001b[43m_C\u001b[49m\u001b[38;5;241;43m.\u001b[39;49m\u001b[43mPyTorchFileReader\u001b[49m\u001b[43m(\u001b[49m\u001b[43mname_or_buffer\u001b[49m\u001b[43m)\u001b[49m)\n",
      "\u001b[0;31mRuntimeError\u001b[0m: [enforce fail at inline_container.cc:135] . file in archive is not in a subdirectory: data"
     ]
    }
   ],
   "source": [
    "model = deserialized_object.load(checkpoint)"
   ]
  },
  {
   "cell_type": "code",
   "execution_count": 26,
   "id": "1bf3d204-0f52-4126-a206-51fdb24591cf",
   "metadata": {},
   "outputs": [
    {
     "data": {
      "text/plain": [
       "<function torch.nn.modules.module.Module.named_modules(self, memo: Optional[Set[ForwardRef('Module')]] = None, prefix: str = '', remove_duplicate: bool = True)>"
      ]
     },
     "execution_count": 26,
     "metadata": {},
     "output_type": "execute_result"
    }
   ],
   "source": [
    "deserialized_object"
   ]
  },
  {
   "cell_type": "code",
   "execution_count": 28,
   "id": "ecca97b9-a8b2-404b-ad9f-cfddac490c55",
   "metadata": {},
   "outputs": [],
   "source": [
    "mdl = PPO.load(checkpoint)"
   ]
  },
  {
   "cell_type": "code",
   "execution_count": 29,
   "id": "b796b10b-820f-41ad-bc1e-6840405facc2",
   "metadata": {},
   "outputs": [
    {
     "data": {
      "text/plain": [
       "<stable_baselines3.ppo.ppo.PPO at 0x7fbc88778490>"
      ]
     },
     "execution_count": 29,
     "metadata": {},
     "output_type": "execute_result"
    }
   ],
   "source": [
    "mdl"
   ]
  },
  {
   "cell_type": "code",
   "execution_count": 30,
   "id": "1f9127df-dfa7-4b70-8be5-791d834e1970",
   "metadata": {},
   "outputs": [],
   "source": [
    "mdl.env"
   ]
  },
  {
   "cell_type": "code",
   "execution_count": 31,
   "id": "9b548b0b-9635-4a8c-b76f-31a6704460d6",
   "metadata": {},
   "outputs": [],
   "source": [
    "import gymnasium as gym\n",
    "from gymnasium.envs.registration import register\n",
    "from stable_baselines3 import PPO\n",
    "from stable_baselines3.common.evaluation import evaluate_policy\n",
    "from stable_baselines3.common.vec_env import SubprocVecEnv, DummyVecEnv\n",
    "\n",
    "\n",
    "def custom_reward(BG_last_hour):\n",
    "    if BG_last_hour[-1] > 180:\n",
    "        return -1\n",
    "    elif BG_last_hour[-1] < 70:\n",
    "        return -2\n",
    "    else:\n",
    "        return 1\n",
    "\n",
    "\n",
    "register(\n",
    "    id=\"simglucose/adolescent2-v0\",\n",
    "    entry_point=\"simglucose.envs:T1DSimGymnaisumEnv\",\n",
    "    max_episode_steps=10000,\n",
    "    kwargs={\n",
    "        \"patient_name\": \"adolescent#002\",\n",
    "        \"reward_fun\": custom_reward,\n",
    "    },\n",
    ")\n",
    "\n",
    "register(\n",
    "    id=\"simglucose/adolescent1-v0\",\n",
    "    entry_point=\"simglucose.envs:T1DSimGymnaisumEnv\",\n",
    "    max_episode_steps=10000,\n",
    "    kwargs={\n",
    "        \"patient_name\": \"adolescent#001\",\n",
    "        \"reward_fun\": custom_reward,\n",
    "    },\n",
    ")"
   ]
  },
  {
   "cell_type": "code",
   "execution_count": 32,
   "id": "3b83248e-1a08-4136-9c68-86ab7bf741d9",
   "metadata": {},
   "outputs": [],
   "source": [
    "vec_env = DummyVecEnv(\n",
    "    [\n",
    "        lambda: gym.make(\"simglucose/adolescent2-v0\", render_mode=\"human\"),\n",
    "        lambda: gym.make(\"simglucose/adolescent1-v0\", render_mode=\"human\"),\n",
    "    ]\n",
    ")"
   ]
  },
  {
   "cell_type": "code",
   "execution_count": 34,
   "id": "fa575a8e-948a-49da-a3b9-a3c0bbc03f4b",
   "metadata": {},
   "outputs": [
    {
     "data": {
      "text/plain": [
       "[<TimeLimit<OrderEnforcing<PassiveEnvChecker<T1DSimGymnaisumEnv<simglucose/adolescent2-v0>>>>>,\n",
       " <TimeLimit<OrderEnforcing<PassiveEnvChecker<T1DSimGymnaisumEnv<simglucose/adolescent1-v0>>>>>]"
      ]
     },
     "execution_count": 34,
     "metadata": {},
     "output_type": "execute_result"
    }
   ],
   "source": [
    "vec_env.envs"
   ]
  },
  {
   "cell_type": "code",
   "execution_count": 35,
   "id": "9f67a2fe-6f6a-4eea-b8ba-1663651c5672",
   "metadata": {},
   "outputs": [
    {
     "data": {
      "text/plain": [
       "<stable_baselines3.common.vec_env.dummy_vec_env.DummyVecEnv at 0x7fbc764917d0>"
      ]
     },
     "execution_count": 35,
     "metadata": {},
     "output_type": "execute_result"
    }
   ],
   "source": [
    "vec_env"
   ]
  },
  {
   "cell_type": "code",
   "execution_count": 36,
   "id": "a17c7fd2-c98d-4a70-9650-e49c24d721cc",
   "metadata": {},
   "outputs": [],
   "source": [
    "env = gym.make(\"simglucose/adolescent2-v0\", render_mode=\"human\")"
   ]
  },
  {
   "cell_type": "code",
   "execution_count": 37,
   "id": "e056ed43-804f-4792-9957-f69b7519b457",
   "metadata": {},
   "outputs": [
    {
     "data": {
      "text/plain": [
       "<TimeLimit<OrderEnforcing<PassiveEnvChecker<T1DSimGymnaisumEnv<simglucose/adolescent2-v0>>>>>"
      ]
     },
     "execution_count": 37,
     "metadata": {},
     "output_type": "execute_result"
    }
   ],
   "source": [
    "env"
   ]
  },
  {
   "cell_type": "code",
   "execution_count": null,
   "id": "f5484881-781f-44ac-ba25-999409a17f0e",
   "metadata": {},
   "outputs": [],
   "source": []
  }
 ],
 "metadata": {
  "kernelspec": {
   "display_name": "Python 3 (ipykernel)",
   "language": "python",
   "name": "python3"
  },
  "language_info": {
   "codemirror_mode": {
    "name": "ipython",
    "version": 3
   },
   "file_extension": ".py",
   "mimetype": "text/x-python",
   "name": "python",
   "nbconvert_exporter": "python",
   "pygments_lexer": "ipython3",
   "version": "3.11.7"
  }
 },
 "nbformat": 4,
 "nbformat_minor": 5
}
